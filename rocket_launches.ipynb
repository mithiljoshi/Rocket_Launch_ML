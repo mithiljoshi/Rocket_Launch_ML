{
 "cells": [
  {
   "cell_type": "code",
   "execution_count": 1,
   "metadata": {},
   "outputs": [],
   "source": [
    "import pandas as pd\r\n",
    "import numpy as np\r\n",
    "from sklearn import linear_model, model_selection, metrics\r\n",
    "from sklearn.model_selection import train_test_split\r\n",
    "\r\n",
    "# Machine learning libraries used to build a decision tree\r\n",
    "from sklearn.tree import DecisionTreeClassifier\r\n",
    "from sklearn import tree\r\n",
    "from sklearn import preprocessing\r\n",
    "\r\n",
    "# for tree visualization\r\n",
    "import pydotplus\r\n",
    "from IPython.display import Image"
   ]
  },
  {
   "cell_type": "code",
   "execution_count": 2,
   "metadata": {},
   "outputs": [
    {
     "data": {
      "text/html": "<div>\n<style scoped>\n    .dataframe tbody tr th:only-of-type {\n        vertical-align: middle;\n    }\n\n    .dataframe tbody tr th {\n        vertical-align: top;\n    }\n\n    .dataframe thead th {\n        text-align: right;\n    }\n</style>\n<table border=\"1\" class=\"dataframe\">\n  <thead>\n    <tr style=\"text-align: right;\">\n      <th></th>\n      <th>Name</th>\n      <th>Date</th>\n      <th>Time (East Coast)</th>\n      <th>Location</th>\n      <th>Crewed or Uncrewed</th>\n      <th>Launched?</th>\n      <th>High Temp</th>\n      <th>Low Temp</th>\n      <th>Ave Temp</th>\n      <th>Temp at Launch Time</th>\n      <th>...</th>\n      <th>Max Wind Speed</th>\n      <th>Visibility</th>\n      <th>Wind Speed at Launch Time</th>\n      <th>Hist Ave Max Wind Speed</th>\n      <th>Hist Ave Visibility</th>\n      <th>Sea Level Pressure</th>\n      <th>Hist Ave Sea Level Pressure</th>\n      <th>Day Length</th>\n      <th>Condition</th>\n      <th>Notes</th>\n    </tr>\n  </thead>\n  <tbody>\n    <tr>\n      <th>0</th>\n      <td>NaN</td>\n      <td>1958-12-04</td>\n      <td>NaN</td>\n      <td>Cape Canaveral</td>\n      <td>NaN</td>\n      <td>NaN</td>\n      <td>75.0</td>\n      <td>68.0</td>\n      <td>71.00</td>\n      <td>NaN</td>\n      <td>...</td>\n      <td>16.0</td>\n      <td>15.0</td>\n      <td>NaN</td>\n      <td>NaN</td>\n      <td>NaN</td>\n      <td>30.22</td>\n      <td>NaN</td>\n      <td>10:26:00</td>\n      <td>Cloudy</td>\n      <td>NaN</td>\n    </tr>\n    <tr>\n      <th>1</th>\n      <td>NaN</td>\n      <td>1958-12-05</td>\n      <td>NaN</td>\n      <td>Cape Canaveral</td>\n      <td>NaN</td>\n      <td>NaN</td>\n      <td>78.0</td>\n      <td>70.0</td>\n      <td>73.39</td>\n      <td>NaN</td>\n      <td>...</td>\n      <td>14.0</td>\n      <td>10.0</td>\n      <td>NaN</td>\n      <td>NaN</td>\n      <td>NaN</td>\n      <td>30.2</td>\n      <td>NaN</td>\n      <td>10:26:00</td>\n      <td>Cloudy</td>\n      <td>NaN</td>\n    </tr>\n    <tr>\n      <th>2</th>\n      <td>Pioneer 3</td>\n      <td>1958-12-06</td>\n      <td>01:45:00</td>\n      <td>Cape Canaveral</td>\n      <td>Uncrewed</td>\n      <td>Y</td>\n      <td>73.0</td>\n      <td>0.0</td>\n      <td>60.21</td>\n      <td>62.0</td>\n      <td>...</td>\n      <td>15.0</td>\n      <td>10.0</td>\n      <td>11.0</td>\n      <td>NaN</td>\n      <td>NaN</td>\n      <td>30.25</td>\n      <td>NaN</td>\n      <td>10:25:00</td>\n      <td>Cloudy</td>\n      <td>NaN</td>\n    </tr>\n    <tr>\n      <th>3</th>\n      <td>NaN</td>\n      <td>1958-12-07</td>\n      <td>NaN</td>\n      <td>Cape Canaveral</td>\n      <td>NaN</td>\n      <td>NaN</td>\n      <td>76.0</td>\n      <td>57.0</td>\n      <td>66.04</td>\n      <td>NaN</td>\n      <td>...</td>\n      <td>10.0</td>\n      <td>10.0</td>\n      <td>NaN</td>\n      <td>NaN</td>\n      <td>NaN</td>\n      <td>30.28</td>\n      <td>NaN</td>\n      <td>10:25:00</td>\n      <td>Partly Cloudy</td>\n      <td>NaN</td>\n    </tr>\n    <tr>\n      <th>4</th>\n      <td>NaN</td>\n      <td>1958-12-08</td>\n      <td>NaN</td>\n      <td>Cape Canaveral</td>\n      <td>NaN</td>\n      <td>NaN</td>\n      <td>79.0</td>\n      <td>60.0</td>\n      <td>70.52</td>\n      <td>NaN</td>\n      <td>...</td>\n      <td>12.0</td>\n      <td>10.0</td>\n      <td>NaN</td>\n      <td>NaN</td>\n      <td>NaN</td>\n      <td>30.23</td>\n      <td>NaN</td>\n      <td>12:24:00</td>\n      <td>Partly Cloudy</td>\n      <td>NaN</td>\n    </tr>\n  </tbody>\n</table>\n<p>5 rows × 26 columns</p>\n</div>",
      "text/plain": "        Name       Date Time (East Coast)        Location Crewed or Uncrewed  \\\n0        NaN 1958-12-04               NaN  Cape Canaveral                NaN   \n1        NaN 1958-12-05               NaN  Cape Canaveral                NaN   \n2  Pioneer 3 1958-12-06          01:45:00  Cape Canaveral           Uncrewed   \n3        NaN 1958-12-07               NaN  Cape Canaveral                NaN   \n4        NaN 1958-12-08               NaN  Cape Canaveral                NaN   \n\n  Launched?  High Temp  Low Temp  Ave Temp  Temp at Launch Time  ...  \\\n0       NaN       75.0      68.0     71.00                  NaN  ...   \n1       NaN       78.0      70.0     73.39                  NaN  ...   \n2         Y       73.0       0.0     60.21                 62.0  ...   \n3       NaN       76.0      57.0     66.04                  NaN  ...   \n4       NaN       79.0      60.0     70.52                  NaN  ...   \n\n   Max Wind Speed  Visibility  Wind Speed at Launch Time  \\\n0            16.0        15.0                        NaN   \n1            14.0        10.0                        NaN   \n2            15.0        10.0                       11.0   \n3            10.0        10.0                        NaN   \n4            12.0        10.0                        NaN   \n\n   Hist Ave Max Wind Speed  Hist Ave Visibility Sea Level Pressure  \\\n0                      NaN                  NaN              30.22   \n1                      NaN                  NaN               30.2   \n2                      NaN                  NaN              30.25   \n3                      NaN                  NaN              30.28   \n4                      NaN                  NaN              30.23   \n\n   Hist Ave Sea Level Pressure  Day Length      Condition  Notes  \n0                          NaN    10:26:00         Cloudy    NaN  \n1                          NaN    10:26:00         Cloudy    NaN  \n2                          NaN    10:25:00         Cloudy    NaN  \n3                          NaN    10:25:00  Partly Cloudy    NaN  \n4                          NaN    12:24:00  Partly Cloudy    NaN  \n\n[5 rows x 26 columns]"
     },
     "execution_count": 2,
     "metadata": {},
     "output_type": "execute_result"
    }
   ],
   "source": [
    "launch_data = pd.read_excel('RocketLaunchDataCompleted.xlsx')\r\n",
    "launch_data.head()"
   ]
  },
  {
   "cell_type": "code",
   "execution_count": 3,
   "metadata": {},
   "outputs": [
    {
     "data": {
      "text/plain": "Index(['Name', 'Date', 'Time (East Coast)', 'Location', 'Crewed or Uncrewed',\n       'Launched?', 'High Temp', 'Low Temp', 'Ave Temp', 'Temp at Launch Time',\n       'Hist High Temp', 'Hist Low Temp', 'Hist Ave Temp',\n       'Percipitation at Launch Time', 'Hist Ave Percipitation',\n       'Wind Direction', 'Max Wind Speed', 'Visibility',\n       'Wind Speed at Launch Time', 'Hist Ave Max Wind Speed',\n       'Hist Ave Visibility', 'Sea Level Pressure',\n       'Hist Ave Sea Level Pressure', 'Day Length', 'Condition', 'Notes'],\n      dtype='object')"
     },
     "execution_count": 3,
     "metadata": {},
     "output_type": "execute_result"
    }
   ],
   "source": [
    "launch_data.columns"
   ]
  },
  {
   "cell_type": "code",
   "execution_count": 4,
   "metadata": {},
   "outputs": [
    {
     "name": "stdout",
     "output_type": "stream",
     "text": [
      "<class 'pandas.core.frame.DataFrame'>\n",
      "RangeIndex: 300 entries, 0 to 299\n",
      "Data columns (total 26 columns):\n",
      " #   Column                        Non-Null Count  Dtype         \n",
      "---  ------                        --------------  -----         \n",
      " 0   Name                          60 non-null     object        \n",
      " 1   Date                          300 non-null    datetime64[ns]\n",
      " 2   Time (East Coast)             59 non-null     object        \n",
      " 3   Location                      300 non-null    object        \n",
      " 4   Crewed or Uncrewed            60 non-null     object        \n",
      " 5   Launched?                     60 non-null     object        \n",
      " 6   High Temp                     299 non-null    float64       \n",
      " 7   Low Temp                      299 non-null    float64       \n",
      " 8   Ave Temp                      299 non-null    float64       \n",
      " 9   Temp at Launch Time           59 non-null     float64       \n",
      " 10  Hist High Temp                299 non-null    float64       \n",
      " 11  Hist Low Temp                 299 non-null    float64       \n",
      " 12  Hist Ave Temp                 299 non-null    float64       \n",
      " 13  Percipitation at Launch Time  299 non-null    float64       \n",
      " 14  Hist Ave Percipitation        299 non-null    float64       \n",
      " 15  Wind Direction                299 non-null    object        \n",
      " 16  Max Wind Speed                299 non-null    float64       \n",
      " 17  Visibility                    299 non-null    float64       \n",
      " 18  Wind Speed at Launch Time     59 non-null     float64       \n",
      " 19  Hist Ave Max Wind Speed       0 non-null      float64       \n",
      " 20  Hist Ave Visibility           0 non-null      float64       \n",
      " 21  Sea Level Pressure            299 non-null    object        \n",
      " 22  Hist Ave Sea Level Pressure   0 non-null      float64       \n",
      " 23  Day Length                    298 non-null    object        \n",
      " 24  Condition                     298 non-null    object        \n",
      " 25  Notes                         3 non-null      object        \n",
      "dtypes: datetime64[ns](1), float64(15), object(10)\n",
      "memory usage: 61.1+ KB\n"
     ]
    }
   ],
   "source": [
    "launch_data.info()"
   ]
  },
  {
   "cell_type": "code",
   "execution_count": 5,
   "metadata": {},
   "outputs": [
    {
     "data": {
      "text/html": "<div>\n<style scoped>\n    .dataframe tbody tr th:only-of-type {\n        vertical-align: middle;\n    }\n\n    .dataframe tbody tr th {\n        vertical-align: top;\n    }\n\n    .dataframe thead th {\n        text-align: right;\n    }\n</style>\n<table border=\"1\" class=\"dataframe\">\n  <thead>\n    <tr style=\"text-align: right;\">\n      <th></th>\n      <th>Name</th>\n      <th>Date</th>\n      <th>Time (East Coast)</th>\n      <th>Location</th>\n      <th>Crewed or Uncrewed</th>\n      <th>Launched?</th>\n      <th>High Temp</th>\n      <th>Low Temp</th>\n      <th>Ave Temp</th>\n      <th>Temp at Launch Time</th>\n      <th>...</th>\n      <th>Max Wind Speed</th>\n      <th>Visibility</th>\n      <th>Wind Speed at Launch Time</th>\n      <th>Hist Ave Max Wind Speed</th>\n      <th>Hist Ave Visibility</th>\n      <th>Sea Level Pressure</th>\n      <th>Hist Ave Sea Level Pressure</th>\n      <th>Day Length</th>\n      <th>Condition</th>\n      <th>Notes</th>\n    </tr>\n  </thead>\n  <tbody>\n    <tr>\n      <th>0</th>\n      <td>0</td>\n      <td>1958-12-04</td>\n      <td>0</td>\n      <td>Cape Canaveral</td>\n      <td>Uncrewed</td>\n      <td>N</td>\n      <td>75.0</td>\n      <td>68.0</td>\n      <td>71.00</td>\n      <td>0.0</td>\n      <td>...</td>\n      <td>16.0</td>\n      <td>15.0</td>\n      <td>0.0</td>\n      <td>0.0</td>\n      <td>0.0</td>\n      <td>30.22</td>\n      <td>0.0</td>\n      <td>10:26:00</td>\n      <td>Cloudy</td>\n      <td>0</td>\n    </tr>\n    <tr>\n      <th>1</th>\n      <td>0</td>\n      <td>1958-12-05</td>\n      <td>0</td>\n      <td>Cape Canaveral</td>\n      <td>Uncrewed</td>\n      <td>N</td>\n      <td>78.0</td>\n      <td>70.0</td>\n      <td>73.39</td>\n      <td>0.0</td>\n      <td>...</td>\n      <td>14.0</td>\n      <td>10.0</td>\n      <td>0.0</td>\n      <td>0.0</td>\n      <td>0.0</td>\n      <td>30.2</td>\n      <td>0.0</td>\n      <td>10:26:00</td>\n      <td>Cloudy</td>\n      <td>0</td>\n    </tr>\n    <tr>\n      <th>2</th>\n      <td>Pioneer 3</td>\n      <td>1958-12-06</td>\n      <td>01:45:00</td>\n      <td>Cape Canaveral</td>\n      <td>Uncrewed</td>\n      <td>Y</td>\n      <td>73.0</td>\n      <td>0.0</td>\n      <td>60.21</td>\n      <td>62.0</td>\n      <td>...</td>\n      <td>15.0</td>\n      <td>10.0</td>\n      <td>11.0</td>\n      <td>0.0</td>\n      <td>0.0</td>\n      <td>30.25</td>\n      <td>0.0</td>\n      <td>10:25:00</td>\n      <td>Cloudy</td>\n      <td>0</td>\n    </tr>\n    <tr>\n      <th>3</th>\n      <td>0</td>\n      <td>1958-12-07</td>\n      <td>0</td>\n      <td>Cape Canaveral</td>\n      <td>Uncrewed</td>\n      <td>N</td>\n      <td>76.0</td>\n      <td>57.0</td>\n      <td>66.04</td>\n      <td>0.0</td>\n      <td>...</td>\n      <td>10.0</td>\n      <td>10.0</td>\n      <td>0.0</td>\n      <td>0.0</td>\n      <td>0.0</td>\n      <td>30.28</td>\n      <td>0.0</td>\n      <td>10:25:00</td>\n      <td>Partly Cloudy</td>\n      <td>0</td>\n    </tr>\n    <tr>\n      <th>4</th>\n      <td>0</td>\n      <td>1958-12-08</td>\n      <td>0</td>\n      <td>Cape Canaveral</td>\n      <td>Uncrewed</td>\n      <td>N</td>\n      <td>79.0</td>\n      <td>60.0</td>\n      <td>70.52</td>\n      <td>0.0</td>\n      <td>...</td>\n      <td>12.0</td>\n      <td>10.0</td>\n      <td>0.0</td>\n      <td>0.0</td>\n      <td>0.0</td>\n      <td>30.23</td>\n      <td>0.0</td>\n      <td>12:24:00</td>\n      <td>Partly Cloudy</td>\n      <td>0</td>\n    </tr>\n  </tbody>\n</table>\n<p>5 rows × 26 columns</p>\n</div>",
      "text/plain": "        Name       Date Time (East Coast)        Location Crewed or Uncrewed  \\\n0          0 1958-12-04                 0  Cape Canaveral           Uncrewed   \n1          0 1958-12-05                 0  Cape Canaveral           Uncrewed   \n2  Pioneer 3 1958-12-06          01:45:00  Cape Canaveral           Uncrewed   \n3          0 1958-12-07                 0  Cape Canaveral           Uncrewed   \n4          0 1958-12-08                 0  Cape Canaveral           Uncrewed   \n\n  Launched?  High Temp  Low Temp  Ave Temp  Temp at Launch Time  ...  \\\n0         N       75.0      68.0     71.00                  0.0  ...   \n1         N       78.0      70.0     73.39                  0.0  ...   \n2         Y       73.0       0.0     60.21                 62.0  ...   \n3         N       76.0      57.0     66.04                  0.0  ...   \n4         N       79.0      60.0     70.52                  0.0  ...   \n\n   Max Wind Speed  Visibility  Wind Speed at Launch Time  \\\n0            16.0        15.0                        0.0   \n1            14.0        10.0                        0.0   \n2            15.0        10.0                       11.0   \n3            10.0        10.0                        0.0   \n4            12.0        10.0                        0.0   \n\n   Hist Ave Max Wind Speed  Hist Ave Visibility Sea Level Pressure  \\\n0                      0.0                  0.0              30.22   \n1                      0.0                  0.0               30.2   \n2                      0.0                  0.0              30.25   \n3                      0.0                  0.0              30.28   \n4                      0.0                  0.0              30.23   \n\n   Hist Ave Sea Level Pressure  Day Length      Condition  Notes  \n0                          0.0    10:26:00         Cloudy      0  \n1                          0.0    10:26:00         Cloudy      0  \n2                          0.0    10:25:00         Cloudy      0  \n3                          0.0    10:25:00  Partly Cloudy      0  \n4                          0.0    12:24:00  Partly Cloudy      0  \n\n[5 rows x 26 columns]"
     },
     "execution_count": 5,
     "metadata": {},
     "output_type": "execute_result"
    }
   ],
   "source": [
    "# to handle missing values\r\n",
    "launch_data['Launched?'].fillna('N', inplace=True)\r\n",
    "launch_data['Crewed or Uncrewed'].fillna('Uncrewed', inplace=True)\r\n",
    "launch_data['Wind Direction'].fillna('unknown', inplace=True)\r\n",
    "launch_data['Condition'].fillna('Fair', inplace=True)\r\n",
    "launch_data.fillna(0, inplace=True)\r\n",
    "launch_data.head()"
   ]
  },
  {
   "cell_type": "code",
   "execution_count": 6,
   "metadata": {},
   "outputs": [],
   "source": [
    "#text data to numerical data\r\n",
    "# encoding\r\n",
    "label_encoder = preprocessing.LabelEncoder()\r\n",
    "\r\n",
    "#converting categorical text info, into numerical\r\n",
    "launch_data['Crewed or Uncrewed'] = label_encoder.fit_transform(launch_data['Crewed or Uncrewed'])\r\n",
    "launch_data['Wind Direction'] = label_encoder.fit_transform(launch_data['Wind Direction'])\r\n",
    "launch_data['Condition'] = label_encoder.fit_transform(launch_data['Condition'])\r\n",
    "\r\n"
   ]
  },
  {
   "cell_type": "code",
   "execution_count": 7,
   "metadata": {},
   "outputs": [
    {
     "data": {
      "text/html": "<div>\n<style scoped>\n    .dataframe tbody tr th:only-of-type {\n        vertical-align: middle;\n    }\n\n    .dataframe tbody tr th {\n        vertical-align: top;\n    }\n\n    .dataframe thead th {\n        text-align: right;\n    }\n</style>\n<table border=\"1\" class=\"dataframe\">\n  <thead>\n    <tr style=\"text-align: right;\">\n      <th></th>\n      <th>Name</th>\n      <th>Date</th>\n      <th>Time (East Coast)</th>\n      <th>Location</th>\n      <th>Crewed or Uncrewed</th>\n      <th>Launched?</th>\n      <th>High Temp</th>\n      <th>Low Temp</th>\n      <th>Ave Temp</th>\n      <th>Temp at Launch Time</th>\n      <th>...</th>\n      <th>Max Wind Speed</th>\n      <th>Visibility</th>\n      <th>Wind Speed at Launch Time</th>\n      <th>Hist Ave Max Wind Speed</th>\n      <th>Hist Ave Visibility</th>\n      <th>Sea Level Pressure</th>\n      <th>Hist Ave Sea Level Pressure</th>\n      <th>Day Length</th>\n      <th>Condition</th>\n      <th>Notes</th>\n    </tr>\n  </thead>\n  <tbody>\n    <tr>\n      <th>0</th>\n      <td>0</td>\n      <td>1958-12-04</td>\n      <td>0</td>\n      <td>Cape Canaveral</td>\n      <td>1</td>\n      <td>N</td>\n      <td>75.0</td>\n      <td>68.0</td>\n      <td>71.00</td>\n      <td>0.0</td>\n      <td>...</td>\n      <td>16.0</td>\n      <td>15.0</td>\n      <td>0.0</td>\n      <td>0.0</td>\n      <td>0.0</td>\n      <td>30.22</td>\n      <td>0.0</td>\n      <td>10:26:00</td>\n      <td>0</td>\n      <td>0</td>\n    </tr>\n    <tr>\n      <th>1</th>\n      <td>0</td>\n      <td>1958-12-05</td>\n      <td>0</td>\n      <td>Cape Canaveral</td>\n      <td>1</td>\n      <td>N</td>\n      <td>78.0</td>\n      <td>70.0</td>\n      <td>73.39</td>\n      <td>0.0</td>\n      <td>...</td>\n      <td>14.0</td>\n      <td>10.0</td>\n      <td>0.0</td>\n      <td>0.0</td>\n      <td>0.0</td>\n      <td>30.2</td>\n      <td>0.0</td>\n      <td>10:26:00</td>\n      <td>0</td>\n      <td>0</td>\n    </tr>\n    <tr>\n      <th>2</th>\n      <td>Pioneer 3</td>\n      <td>1958-12-06</td>\n      <td>01:45:00</td>\n      <td>Cape Canaveral</td>\n      <td>1</td>\n      <td>Y</td>\n      <td>73.0</td>\n      <td>0.0</td>\n      <td>60.21</td>\n      <td>62.0</td>\n      <td>...</td>\n      <td>15.0</td>\n      <td>10.0</td>\n      <td>11.0</td>\n      <td>0.0</td>\n      <td>0.0</td>\n      <td>30.25</td>\n      <td>0.0</td>\n      <td>10:25:00</td>\n      <td>0</td>\n      <td>0</td>\n    </tr>\n    <tr>\n      <th>3</th>\n      <td>0</td>\n      <td>1958-12-07</td>\n      <td>0</td>\n      <td>Cape Canaveral</td>\n      <td>1</td>\n      <td>N</td>\n      <td>76.0</td>\n      <td>57.0</td>\n      <td>66.04</td>\n      <td>0.0</td>\n      <td>...</td>\n      <td>10.0</td>\n      <td>10.0</td>\n      <td>0.0</td>\n      <td>0.0</td>\n      <td>0.0</td>\n      <td>30.28</td>\n      <td>0.0</td>\n      <td>10:25:00</td>\n      <td>6</td>\n      <td>0</td>\n    </tr>\n    <tr>\n      <th>4</th>\n      <td>0</td>\n      <td>1958-12-08</td>\n      <td>0</td>\n      <td>Cape Canaveral</td>\n      <td>1</td>\n      <td>N</td>\n      <td>79.0</td>\n      <td>60.0</td>\n      <td>70.52</td>\n      <td>0.0</td>\n      <td>...</td>\n      <td>12.0</td>\n      <td>10.0</td>\n      <td>0.0</td>\n      <td>0.0</td>\n      <td>0.0</td>\n      <td>30.23</td>\n      <td>0.0</td>\n      <td>12:24:00</td>\n      <td>6</td>\n      <td>0</td>\n    </tr>\n  </tbody>\n</table>\n<p>5 rows × 26 columns</p>\n</div>",
      "text/plain": "        Name       Date Time (East Coast)        Location  Crewed or Uncrewed  \\\n0          0 1958-12-04                 0  Cape Canaveral                   1   \n1          0 1958-12-05                 0  Cape Canaveral                   1   \n2  Pioneer 3 1958-12-06          01:45:00  Cape Canaveral                   1   \n3          0 1958-12-07                 0  Cape Canaveral                   1   \n4          0 1958-12-08                 0  Cape Canaveral                   1   \n\n  Launched?  High Temp  Low Temp  Ave Temp  Temp at Launch Time  ...  \\\n0         N       75.0      68.0     71.00                  0.0  ...   \n1         N       78.0      70.0     73.39                  0.0  ...   \n2         Y       73.0       0.0     60.21                 62.0  ...   \n3         N       76.0      57.0     66.04                  0.0  ...   \n4         N       79.0      60.0     70.52                  0.0  ...   \n\n   Max Wind Speed  Visibility  Wind Speed at Launch Time  \\\n0            16.0        15.0                        0.0   \n1            14.0        10.0                        0.0   \n2            15.0        10.0                       11.0   \n3            10.0        10.0                        0.0   \n4            12.0        10.0                        0.0   \n\n   Hist Ave Max Wind Speed  Hist Ave Visibility  Sea Level Pressure  \\\n0                      0.0                  0.0               30.22   \n1                      0.0                  0.0                30.2   \n2                      0.0                  0.0               30.25   \n3                      0.0                  0.0               30.28   \n4                      0.0                  0.0               30.23   \n\n   Hist Ave Sea Level Pressure  Day Length  Condition  Notes  \n0                          0.0    10:26:00          0      0  \n1                          0.0    10:26:00          0      0  \n2                          0.0    10:25:00          0      0  \n3                          0.0    10:25:00          6      0  \n4                          0.0    12:24:00          6      0  \n\n[5 rows x 26 columns]"
     },
     "execution_count": 7,
     "metadata": {},
     "output_type": "execute_result"
    }
   ],
   "source": [
    "launch_data.head()"
   ]
  },
  {
   "cell_type": "code",
   "execution_count": 8,
   "metadata": {},
   "outputs": [],
   "source": [
    "# First, we save the output we are interested in. In this case, \"launch\" yes and no's go into the output variable.\r\n",
    "y = launch_data['Launched?']\r\n",
    "\r\n",
    "# Removing the columns we are not interested in\r\n",
    "launch_data.drop(['Name','Date','Time (East Coast)','Location','Launched?','Hist Ave Sea Level Pressure','Sea Level Pressure','Day Length','Notes','Hist Ave Visibility', 'Hist Ave Max Wind Speed'],axis=1, inplace=True)\r\n",
    "\r\n",
    "# Saving the rest of the data as input data\r\n",
    "X = launch_data"
   ]
  },
  {
   "cell_type": "code",
   "execution_count": 9,
   "metadata": {},
   "outputs": [
    {
     "data": {
      "text/plain": "Index(['Crewed or Uncrewed', 'High Temp', 'Low Temp', 'Ave Temp',\n       'Temp at Launch Time', 'Hist High Temp', 'Hist Low Temp',\n       'Hist Ave Temp', 'Percipitation at Launch Time',\n       'Hist Ave Percipitation', 'Wind Direction', 'Max Wind Speed',\n       'Visibility', 'Wind Speed at Launch Time', 'Condition'],\n      dtype='object')"
     },
     "execution_count": 9,
     "metadata": {},
     "output_type": "execute_result"
    }
   ],
   "source": [
    "X.columns"
   ]
  },
  {
   "cell_type": "code",
   "execution_count": 10,
   "metadata": {},
   "outputs": [],
   "source": [
    "tree_model = DecisionTreeClassifier(random_state=0, max_depth=5)"
   ]
  },
  {
   "cell_type": "code",
   "execution_count": 11,
   "metadata": {},
   "outputs": [],
   "source": [
    "X_train, X_test, y_train, y_test = train_test_split(X,y, test_size=0.2, random_state=99)"
   ]
  },
  {
   "cell_type": "code",
   "execution_count": 12,
   "metadata": {},
   "outputs": [
    {
     "data": {
      "text/plain": "DecisionTreeClassifier(max_depth=5, random_state=0)"
     },
     "execution_count": 12,
     "metadata": {},
     "output_type": "execute_result"
    }
   ],
   "source": [
    "# Fitting the model to the training data\r\n",
    "tree_model.fit(X_train,y_train)"
   ]
  },
  {
   "cell_type": "code",
   "execution_count": 13,
   "metadata": {},
   "outputs": [],
   "source": [
    "# Do prediction on test Data\r\n",
    "y_pred = tree_model.predict(X_test)\r\n",
    "# print(y_pred)"
   ]
  },
  {
   "cell_type": "code",
   "execution_count": 17,
   "metadata": {},
   "outputs": [
    {
     "data": {
      "text/plain": "0.9833333333333333"
     },
     "execution_count": 17,
     "metadata": {},
     "output_type": "execute_result"
    }
   ],
   "source": [
    "# Calculate accuracy\r\n",
    "tree_model.score(X_test,y_test)"
   ]
  },
  {
   "cell_type": "code",
   "execution_count": 15,
   "metadata": {},
   "outputs": [],
   "source": [
    "# Let's import a library for visualizing our decision tree.\r\n",
    "from sklearn.tree import export_graphviz\r\n",
    "\r\n",
    "def tree_graph_to_png(tree, feature_names,class_names, png_file_to_save):\r\n",
    "    tree_str = export_graphviz(tree, feature_names=feature_names, class_names=class_names,\r\n",
    "                                     filled=True, out_file=None)\r\n",
    "    graph = pydotplus.graph_from_dot_data(tree_str)  \r\n",
    "    return Image(graph.create_png())"
   ]
  },
  {
   "cell_type": "code",
   "execution_count": 20,
   "metadata": {},
   "outputs": [
    {
     "data": {
      "text/plain": "array(['N'], dtype=object)"
     },
     "execution_count": 20,
     "metadata": {},
     "output_type": "execute_result"
    }
   ],
   "source": [
    "# ['Crewed or Uncrewed', 'High Temp', 'Low Temp', 'Ave Temp',\r\n",
    "#        'Temp at Launch Time', 'Hist High Temp', 'Hist Low Temp',\r\n",
    "#        'Hist Ave Temp', 'Precipitation at Launch Time',\r\n",
    "#        'Hist Ave Precipitation', 'Wind Direction', 'Max Wind Speed',\r\n",
    "#        'Visibility', 'Wind Speed at Launch Time', 'Hist Ave Max Wind Speed',\r\n",
    "#        'Hist Ave Visibility', 'Condition']\r\n",
    "\r\n",
    "data_input = [ 1.  , 75.  , 68.  , 71.  ,  0.  , 75.  , 55.  , 65.  ,  0.  , 0.08,  0.  , 16.  , 15.  ,  0.  ,  0. ]\r\n",
    "\r\n",
    "tree_model.predict([data_input])"
   ]
  },
  {
   "cell_type": "code",
   "execution_count": null,
   "metadata": {},
   "outputs": [],
   "source": []
  }
 ],
 "metadata": {
  "kernelspec": {
   "display_name": "Python 3.7.0 64-bit ('RocketLaunchML': conda)",
   "name": "python370jvsc74a57bd02e557b9c7cb87e87fac009cb5a09b1ba20d80d812d07863bc57c9bb8a6c1b017"
  },
  "language_info": {
   "codemirror_mode": {
    "name": "ipython",
    "version": 3
   },
   "file_extension": ".py",
   "mimetype": "text/x-python",
   "name": "python",
   "nbconvert_exporter": "python",
   "pygments_lexer": "ipython3",
   "version": "3.7.0"
  },
  "orig_nbformat": 2
 },
 "nbformat": 4,
 "nbformat_minor": 2
}